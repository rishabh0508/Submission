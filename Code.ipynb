{
  "nbformat": 4,
  "nbformat_minor": 0,
  "metadata": {
    "colab": {
      "name": "Untitled9.ipynb",
      "provenance": []
    },
    "kernelspec": {
      "name": "python3",
      "display_name": "Python 3"
    },
    "language_info": {
      "name": "python"
    }
  },
  "cells": [
    {
      "cell_type": "code",
      "metadata": {
        "colab": {
          "base_uri": "https://localhost:8080/",
          "height": 204
        },
        "id": "dFmiC1b-LUS7",
        "outputId": "db7d1c90-a078-4684-9faf-b31838576f69"
      },
      "source": [
        "import pandas as pd\n",
        "dataset = pd.read_excel(\"root2ai.xlsx\")\n",
        "dataset.head()"
      ],
      "execution_count": 19,
      "outputs": [
        {
          "output_type": "execute_result",
          "data": {
            "text/html": [
              "<div>\n",
              "<style scoped>\n",
              "    .dataframe tbody tr th:only-of-type {\n",
              "        vertical-align: middle;\n",
              "    }\n",
              "\n",
              "    .dataframe tbody tr th {\n",
              "        vertical-align: top;\n",
              "    }\n",
              "\n",
              "    .dataframe thead th {\n",
              "        text-align: right;\n",
              "    }\n",
              "</style>\n",
              "<table border=\"1\" class=\"dataframe\">\n",
              "  <thead>\n",
              "    <tr style=\"text-align: right;\">\n",
              "      <th></th>\n",
              "      <th>Text</th>\n",
              "      <th>Target</th>\n",
              "    </tr>\n",
              "  </thead>\n",
              "  <tbody>\n",
              "    <tr>\n",
              "      <th>0</th>\n",
              "      <td>reserve bank forming expert committee based in...</td>\n",
              "      <td>Blockchain</td>\n",
              "    </tr>\n",
              "    <tr>\n",
              "      <th>1</th>\n",
              "      <td>director could play role financial system</td>\n",
              "      <td>Blockchain</td>\n",
              "    </tr>\n",
              "    <tr>\n",
              "      <th>2</th>\n",
              "      <td>preliminary discuss secure transaction study r...</td>\n",
              "      <td>Blockchain</td>\n",
              "    </tr>\n",
              "    <tr>\n",
              "      <th>3</th>\n",
              "      <td>security indeed prove essential transforming f...</td>\n",
              "      <td>Blockchain</td>\n",
              "    </tr>\n",
              "    <tr>\n",
              "      <th>4</th>\n",
              "      <td>bank settlement normally take three days based...</td>\n",
              "      <td>Blockchain</td>\n",
              "    </tr>\n",
              "  </tbody>\n",
              "</table>\n",
              "</div>"
            ],
            "text/plain": [
              "                                                Text      Target\n",
              "0  reserve bank forming expert committee based in...  Blockchain\n",
              "1          director could play role financial system  Blockchain\n",
              "2  preliminary discuss secure transaction study r...  Blockchain\n",
              "3  security indeed prove essential transforming f...  Blockchain\n",
              "4  bank settlement normally take three days based...  Blockchain"
            ]
          },
          "metadata": {
            "tags": []
          },
          "execution_count": 19
        }
      ]
    },
    {
      "cell_type": "code",
      "metadata": {
        "colab": {
          "base_uri": "https://localhost:8080/"
        },
        "id": "8QWI5dgsNq8M",
        "outputId": "fbf21310-8c72-49e0-bd05-7d471da6c915"
      },
      "source": [
        "from sklearn.preprocessing import LabelEncoder\n",
        "le = LabelEncoder()\n",
        "y = le.fit_transform(dataset[\"Target\"])\n",
        "y"
      ],
      "execution_count": 20,
      "outputs": [
        {
          "output_type": "execute_result",
          "data": {
            "text/plain": [
              "array([1, 1, 1, ..., 7, 7, 7])"
            ]
          },
          "metadata": {
            "tags": []
          },
          "execution_count": 20
        }
      ]
    },
    {
      "cell_type": "code",
      "metadata": {
        "colab": {
          "base_uri": "https://localhost:8080/"
        },
        "id": "CGPfp3CpMzYx",
        "outputId": "e9cd9a95-b8c5-4c06-a3b4-8cf0ecfaf45a"
      },
      "source": [
        "text = dataset[\"Text\"]\n",
        "text"
      ],
      "execution_count": 21,
      "outputs": [
        {
          "output_type": "execute_result",
          "data": {
            "text/plain": [
              "0        reserve bank forming expert committee based in...\n",
              "1                director could play role financial system\n",
              "2        preliminary discuss secure transaction study r...\n",
              "3        security indeed prove essential transforming f...\n",
              "4        bank settlement normally take three days based...\n",
              "                               ...                        \n",
              "22699    fourth study discusses blockchain technology e...\n",
              "22700    book finishes stating biggest issue emerging F...\n",
              "22701                                  people culture cess\n",
              "22702    author challenges execu tive lead change stop ...\n",
              "22703    change data driven culture come bottom must start\n",
              "Name: Text, Length: 22704, dtype: object"
            ]
          },
          "metadata": {
            "tags": []
          },
          "execution_count": 21
        }
      ]
    },
    {
      "cell_type": "code",
      "metadata": {
        "colab": {
          "base_uri": "https://localhost:8080/"
        },
        "id": "AF-Kx10BPGWS",
        "outputId": "ac3e6a01-006c-4f70-c19e-47bf4351a389"
      },
      "source": [
        "c=[]\n",
        "import re\n",
        "import nltk\n",
        "nltk.download('stopwords')\n",
        "from nltk.corpus import stopwords\n",
        "from nltk.stem.porter import PorterStemmer\n",
        "for i in range(len(dataset)):\n",
        "  temp = str(dataset[\"Text\"][i]).lower()\n",
        "  temp = temp.split()\n",
        "  ps = PorterStemmer()\n",
        "  all_words = stopwords.words(\"english\")\n",
        "  all_words.remove(\"not\")\n",
        "  temp = [ps.stem(word) for word in temp if word not in set(all_words)]\n",
        "  temp = \" \".join(temp)\n",
        "  c.append(temp)"
      ],
      "execution_count": 22,
      "outputs": [
        {
          "output_type": "stream",
          "text": [
            "[nltk_data] Downloading package stopwords to /root/nltk_data...\n",
            "[nltk_data]   Package stopwords is already up-to-date!\n"
          ],
          "name": "stdout"
        }
      ]
    },
    {
      "cell_type": "code",
      "metadata": {
        "colab": {
          "base_uri": "https://localhost:8080/",
          "height": 37
        },
        "id": "TpagEDEHTWwi",
        "outputId": "b2d85dbe-5935-4a43-d9d1-1a95b3872246"
      },
      "source": [
        "c[1]"
      ],
      "execution_count": 23,
      "outputs": [
        {
          "output_type": "execute_result",
          "data": {
            "application/vnd.google.colaboratory.intrinsic+json": {
              "type": "string"
            },
            "text/plain": [
              "'director could play role financi system'"
            ]
          },
          "metadata": {
            "tags": []
          },
          "execution_count": 23
        }
      ]
    },
    {
      "cell_type": "code",
      "metadata": {
        "colab": {
          "base_uri": "https://localhost:8080/"
        },
        "id": "Wqh58k3iNHHu",
        "outputId": "5b7c02a8-2d6b-4428-c7fb-2179aa1525d6"
      },
      "source": [
        "from sklearn.feature_extraction.text import CountVectorizer\n",
        "cv = CountVectorizer()\n",
        "x = cv.fit_transform(c).toarray()\n",
        "x"
      ],
      "execution_count": 24,
      "outputs": [
        {
          "output_type": "execute_result",
          "data": {
            "text/plain": [
              "array([[0, 0, 0, ..., 0, 0, 0],\n",
              "       [0, 0, 0, ..., 0, 0, 0],\n",
              "       [0, 0, 0, ..., 0, 0, 0],\n",
              "       ...,\n",
              "       [0, 0, 0, ..., 0, 0, 0],\n",
              "       [0, 0, 0, ..., 0, 0, 0],\n",
              "       [0, 0, 0, ..., 0, 0, 0]])"
            ]
          },
          "metadata": {
            "tags": []
          },
          "execution_count": 24
        }
      ]
    },
    {
      "cell_type": "code",
      "metadata": {
        "id": "J-8H86SIUMua"
      },
      "source": [
        "from sklearn.model_selection import train_test_split as t\n",
        "x_train, x_test, y_train, y_test = t(x, y, test_size=0.2, random_state=0)"
      ],
      "execution_count": 25,
      "outputs": []
    },
    {
      "cell_type": "code",
      "metadata": {
        "colab": {
          "base_uri": "https://localhost:8080/"
        },
        "id": "Syp2JujqUDjF",
        "outputId": "1b1ad229-77eb-43cd-9d55-0294386c5d47"
      },
      "source": [
        "from sklearn.ensemble import RandomForestClassifier\n",
        "model = RandomForestClassifier(n_estimators=100, random_state=0)\n",
        "model.fit(x_train, y_train)"
      ],
      "execution_count": 26,
      "outputs": [
        {
          "output_type": "execute_result",
          "data": {
            "text/plain": [
              "RandomForestClassifier(bootstrap=True, ccp_alpha=0.0, class_weight=None,\n",
              "                       criterion='gini', max_depth=None, max_features='auto',\n",
              "                       max_leaf_nodes=None, max_samples=None,\n",
              "                       min_impurity_decrease=0.0, min_impurity_split=None,\n",
              "                       min_samples_leaf=1, min_samples_split=2,\n",
              "                       min_weight_fraction_leaf=0.0, n_estimators=100,\n",
              "                       n_jobs=None, oob_score=False, random_state=0, verbose=0,\n",
              "                       warm_start=False)"
            ]
          },
          "metadata": {
            "tags": []
          },
          "execution_count": 26
        }
      ]
    },
    {
      "cell_type": "code",
      "metadata": {
        "colab": {
          "base_uri": "https://localhost:8080/"
        },
        "id": "_w37F4UsUTux",
        "outputId": "c9f4ccd6-24e4-4312-ebdf-64381b0584de"
      },
      "source": [
        "pred = model.predict(x_test)\n",
        "pred_t=model.predict(x_train)\n",
        "from sklearn.metrics import accuracy_score, confusion_matrix\n",
        "print(\"Train Accuracy Score:\", accuracy_score(y_train, pred_t))\n",
        "print(\"Test Accuracy Score\", accuracy_score(y_test, pred))\n",
        "cm = confusion_matrix(y_test, pred)\n",
        "print(cm)"
      ],
      "execution_count": 27,
      "outputs": [
        {
          "output_type": "stream",
          "text": [
            "Train Accuracy Score: 0.9901998568518416\n",
            "Test Accuracy Score 0.6177053512442193\n",
            "[[ 274    4    9    1  117    4    3   11    3    1   24]\n",
            " [  10   87   27    0  137    4    6    2    2    3    8]\n",
            " [   9   14  256    5  208    5    3   11    2    4   24]\n",
            " [   3    1   16    3   21    0    0    1    0    0   13]\n",
            " [  33   25   67    1 1430   11   28   23   14   28   51]\n",
            " [   6    6   17    0   88   73    0    3    1    1    1]\n",
            " [   2    2    6    0  119    1   66    5    0    3    7]\n",
            " [  23    2   17    0  103    2    2  289    2    0    2]\n",
            " [   3    1    5    0   69    0    2    1   47    5    5]\n",
            " [   5    4   11    0   64    0    2    2    3   82    2]\n",
            " [   8    5   14    0   93    0    7    3    2    2  198]]\n"
          ],
          "name": "stdout"
        }
      ]
    }
  ]
}